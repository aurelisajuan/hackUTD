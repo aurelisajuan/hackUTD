{
 "cells": [
  {
   "cell_type": "code",
   "execution_count": 3,
   "metadata": {},
   "outputs": [
    {
     "name": "stdout",
     "output_type": "stream",
     "text": [
      "User: I want to apply for a loan. Because I need money. Lets do 5 years for 30000.\n",
      "Agent: "
     ]
    },
    {
     "name": "stderr",
     "output_type": "stream",
     "text": [
      "2024-11-17 09:15:05,814 - INFO - Current message history: [{'role': 'user', 'content': 'I want to apply for a loan. Because I need money. Lets do 5 years for 30000.'}]\n",
      "2024-11-17 09:15:06,438 - INFO - HTTP Request: POST https://api.openai.com/v1/chat/completions \"HTTP/1.1 200 OK\"\n",
      "2024-11-17 09:15:06,625 - INFO - Transferring to Applications Agent.\n",
      "2024-11-17 09:15:06,991 - INFO - HTTP Request: POST https://api.openai.com/v1/chat/completions \"HTTP/1.1 200 OK\"\n"
     ]
    },
    {
     "name": "stdout",
     "output_type": "stream",
     "text": [
      "Sure, I can help you with the loan application. To proceed, could you please provide the following details:\n",
      "\n",
      "1. The purpose of the loan (e.g., purchasing a car, home improvement, etc.).\n",
      "2. Your user ID for identification purposes.\n",
      "\n",
      "\n",
      "User: Account id is ACC123\n",
      "Agent: "
     ]
    },
    {
     "name": "stderr",
     "output_type": "stream",
     "text": [
      "2024-11-17 09:15:07,453 - INFO - Current message history: [{'role': 'user', 'content': 'I want to apply for a loan. Because I need money. Lets do 5 years for 30000.'}, {'role': 'assistant', 'content': 'Sure, I can help you with the loan application. To proceed, could you please provide the following details:\\n\\n1. The purpose of the loan (e.g., purchasing a car, home improvement, etc.).\\n2. Your user ID for identification purposes.'}, {'role': 'user', 'content': 'Account id is ACC123'}]\n",
      "2024-11-17 09:15:07,846 - INFO - HTTP Request: POST https://api.openai.com/v1/chat/completions \"HTTP/1.1 200 OK\"\n"
     ]
    },
    {
     "name": "stdout",
     "output_type": "stream",
     "text": [
      "Great! Now, could you please specify the purpose of the loan? This information will help us complete your application.\n",
      "\n",
      "\n",
      "User: Its for school.\n",
      "Agent: "
     ]
    },
    {
     "name": "stderr",
     "output_type": "stream",
     "text": [
      "2024-11-17 09:15:08,073 - INFO - Current message history: [{'role': 'user', 'content': 'I want to apply for a loan. Because I need money. Lets do 5 years for 30000.'}, {'role': 'assistant', 'content': 'Sure, I can help you with the loan application. To proceed, could you please provide the following details:\\n\\n1. The purpose of the loan (e.g., purchasing a car, home improvement, etc.).\\n2. Your user ID for identification purposes.'}, {'role': 'user', 'content': 'Account id is ACC123'}, {'role': 'assistant', 'content': 'Great! Now, could you please specify the purpose of the loan? This information will help us complete your application.'}, {'role': 'user', 'content': 'Its for school.'}]\n",
      "2024-11-17 09:15:08,585 - INFO - HTTP Request: POST https://api.openai.com/v1/chat/completions \"HTTP/1.1 200 OK\"\n"
     ]
    },
    {
     "name": "stdout",
     "output_type": "stream",
     "text": [
      "Thank you for the information. I'll proceed with your loan application for 30,000 over a term of 5 years for school purposes. \n",
      "\n",
      "Please hold on for a moment while I process your application."
     ]
    },
    {
     "name": "stderr",
     "output_type": "stream",
     "text": [
      "2024-11-17 09:15:09,812 - INFO - Processing loan application for user ACC123.\n",
      "2024-11-17 09:15:09,813 - INFO - Loan application LaTeX file generated at applications/loan_application_ACC123_20241117091509.tex.\n",
      "2024-11-17 09:15:09,929 - INFO - Loan application PDF generated at applications/loan_application_ACC123_20241117091509.pdf.\n",
      "2024-11-17 09:15:10,352 - INFO - HTTP Request: POST https://api.openai.com/v1/chat/completions \"HTTP/1.1 200 OK\"\n"
     ]
    },
    {
     "name": "stdout",
     "output_type": "stream",
     "text": [
      "Your loan application for $30,000 over 5 years for school purposes has been successfully processed. The relevant documents have been securely stored for further processing.\n",
      "\n",
      "If there is anything else you need help with, feel free to ask!\n",
      "\n",
      "\n"
     ]
    }
   ],
   "source": [
    "# main.py\n",
    "\n",
    "from agent_swarm import AgentSwarm\n",
    "from db import get_db, set_db\n",
    "\n",
    "# Initialize the AgentSwarm\n",
    "# Replace 'socket' with your actual socket or communication handler if needed\n",
    "socket = None  # Placeholder for real socket or communication handler\n",
    "swarm = AgentSwarm(socket)\n",
    "\n",
    "# Function to process a new user message\n",
    "def process_new_message(swarm, user_message: str):\n",
    "    \"\"\"\n",
    "    Processes a new user message through the swarm and handles the response.\n",
    "    \n",
    "    Args:\n",
    "        swarm (AgentSwarm): The AgentSwarm instance.\n",
    "        user_message (str): The new user message to process.\n",
    "    \n",
    "    Yields:\n",
    "        str: The assistant's response chunks.\n",
    "    \"\"\"\n",
    "    message = {\"role\": \"user\", \"content\": user_message}\n",
    "    response = swarm.run([message], stream=True)\n",
    "    for chunk in response:\n",
    "        yield chunk  # Yield each chunk as it's received\n",
    "\n",
    "# Example usage\n",
    "if __name__ == \"__main__\":\n",
    "    # List of user interactions (including follow-ups)\n",
    "    user_interactions = [\n",
    "        {\"user_message\": \"I want to apply for a loan. Because I need money. Lets do 5 years for 30000.\"},\n",
    "        {\"user_message\": \"Account id is ACC123\"}, \n",
    "        {\"user_message\": \"Its for school.\"},\n",
    "    ]\n",
    "    \n",
    "    for interaction in user_interactions:\n",
    "        user_message = interaction[\"user_message\"]\n",
    "        print(f\"User: {user_message}\")\n",
    "        try:\n",
    "            print(\"Agent: \", end=\"\", flush=True)\n",
    "            # Process the user message and iterate over the response chunks\n",
    "            for chunk in process_new_message(swarm, user_message):\n",
    "                print(f\"{chunk}\", end=\"\", flush=True)\n",
    "            print(\"\\n\")  # For readability between interactions\n",
    "        except Exception as e:\n",
    "            print(f\"Agent: An error occurred: {str(e)}\\n\")\n"
   ]
  }
 ],
 "metadata": {
  "kernelspec": {
   "display_name": "talktuah",
   "language": "python",
   "name": "python3"
  },
  "language_info": {
   "codemirror_mode": {
    "name": "ipython",
    "version": 3
   },
   "file_extension": ".py",
   "mimetype": "text/x-python",
   "name": "python",
   "nbconvert_exporter": "python",
   "pygments_lexer": "ipython3",
   "version": "3.10.13"
  }
 },
 "nbformat": 4,
 "nbformat_minor": 2
}
