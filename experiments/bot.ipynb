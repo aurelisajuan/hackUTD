{
 "cells": [
  {
   "cell_type": "code",
   "execution_count": 17,
   "metadata": {},
   "outputs": [
    {
     "name": "stderr",
     "output_type": "stream",
     "text": [
      "2024-11-16 22:23:41,937 - INFO - Swarm run completed.\n",
      "2024-11-16 22:23:42,523 - INFO - HTTP Request: POST https://api.openai.com/v1/chat/completions \"HTTP/1.1 200 OK\"\n",
      "2024-11-16 22:23:42,668 - INFO - Transferring to Accounts Agent.\n",
      "2024-11-16 22:23:43,133 - INFO - HTTP Request: POST https://api.openai.com/v1/chat/completions \"HTTP/1.1 200 OK\"\n"
     ]
    },
    {
     "name": "stdout",
     "output_type": "stream",
     "text": [
      "Certainly! Could you please provide your account ID so I can assist you with your balance inquiry?"
     ]
    },
    {
     "name": "stderr",
     "output_type": "stream",
     "text": [
      "2024-11-16 22:23:43,345 - INFO - Swarm run completed.\n"
     ]
    },
    {
     "name": "stdout",
     "output_type": "stream",
     "text": [
      "\n",
      "\n",
      "Updated Messages: [{'role': 'user', 'content': 'I would like to check my account balance.'}, {'role': 'assistant', 'content': 'Certainly! Could you please provide your account ID so I can assist you with your balance inquiry?'}, {'role': 'user', 'content': 'ACC123'}]\n"
     ]
    },
    {
     "name": "stderr",
     "output_type": "stream",
     "text": [
      "2024-11-16 22:23:44,242 - INFO - HTTP Request: POST https://api.openai.com/v1/chat/completions \"HTTP/1.1 200 OK\"\n",
      "2024-11-16 22:23:44,419 - INFO - Transferring to Accounts Agent.\n",
      "2024-11-16 22:23:44,977 - INFO - HTTP Request: POST https://api.openai.com/v1/chat/completions \"HTTP/1.1 200 OK\"\n",
      "2024-11-16 22:23:45,008 - INFO - Handling account balance for account ID: ACC123\n",
      "2024-11-16 22:23:45,008 - INFO - Account ID ACC123 is valid.\n",
      "2024-11-16 22:23:45,405 - INFO - HTTP Request: POST https://api.openai.com/v1/chat/completions \"HTTP/1.1 200 OK\"\n"
     ]
    },
    {
     "name": "stdout",
     "output_type": "stream",
     "text": [
      "Your current account balance for ACC123 is $2500.00. If you have any more questions or need further assistance, feel free to ask!"
     ]
    },
    {
     "name": "stderr",
     "output_type": "stream",
     "text": [
      "2024-11-16 22:23:45,693 - INFO - Swarm run completed.\n"
     ]
    },
    {
     "name": "stdout",
     "output_type": "stream",
     "text": [
      "\n"
     ]
    },
    {
     "name": "stderr",
     "output_type": "stream",
     "text": [
      "2024-11-16 22:23:46,235 - INFO - HTTP Request: POST https://api.openai.com/v1/chat/completions \"HTTP/1.1 200 OK\"\n",
      "2024-11-16 22:23:46,323 - INFO - Transferring to Payments Agent.\n",
      "2024-11-16 22:23:46,835 - INFO - HTTP Request: POST https://api.openai.com/v1/chat/completions \"HTTP/1.1 200 OK\"\n",
      "2024-11-16 22:23:46,987 - INFO - Transferring funds from ACC123 to ACC456 amount: $200\n",
      "2024-11-16 22:23:46,987 - INFO - Account ID ACC123 is valid.\n",
      "2024-11-16 22:23:46,987 - INFO - Account ID ACC456 is valid.\n",
      "2024-11-16 22:23:46,988 - INFO - Amount 200 is valid.\n",
      "2024-11-16 22:23:46,988 - INFO - Generated new payment ID: PAY003\n",
      "2024-11-16 22:23:47,875 - INFO - HTTP Request: POST https://api.openai.com/v1/chat/completions \"HTTP/1.1 200 OK\"\n"
     ]
    },
    {
     "name": "stdout",
     "output_type": "stream",
     "text": [
      "I have successfully transferred $200 from account ACC123 to ACC456. If there's anything else you need, feel free to ask!"
     ]
    },
    {
     "name": "stderr",
     "output_type": "stream",
     "text": [
      "2024-11-16 22:23:48,075 - INFO - Swarm run completed.\n"
     ]
    },
    {
     "name": "stdout",
     "output_type": "stream",
     "text": [
      "\n"
     ]
    },
    {
     "name": "stderr",
     "output_type": "stream",
     "text": [
      "2024-11-16 22:23:48,694 - INFO - HTTP Request: POST https://api.openai.com/v1/chat/completions \"HTTP/1.1 200 OK\"\n",
      "2024-11-16 22:23:48,704 - INFO - Transferring to Accounts Agent.\n",
      "2024-11-16 22:23:49,153 - INFO - HTTP Request: POST https://api.openai.com/v1/chat/completions \"HTTP/1.1 200 OK\"\n"
     ]
    },
    {
     "name": "stdout",
     "output_type": "stream",
     "text": [
      "Could you please provide your account ID so I can retrieve your bank statement for January?"
     ]
    },
    {
     "name": "stderr",
     "output_type": "stream",
     "text": [
      "2024-11-16 22:23:49,333 - INFO - Swarm run completed.\n"
     ]
    },
    {
     "name": "stdout",
     "output_type": "stream",
     "text": [
      "\n",
      "\n",
      "Updated Messages: [{'role': 'user', 'content': 'I need my bank statement for January.'}, {'role': 'assistant', 'content': 'Could you please provide your account ID so I can retrieve your bank statement for January?'}, {'role': 'user', 'content': 'ACC123'}]\n"
     ]
    },
    {
     "name": "stderr",
     "output_type": "stream",
     "text": [
      "2024-11-16 22:23:49,772 - INFO - HTTP Request: POST https://api.openai.com/v1/chat/completions \"HTTP/1.1 200 OK\"\n",
      "2024-11-16 22:23:49,991 - INFO - Transferring to Accounts Agent.\n",
      "2024-11-16 22:23:50,491 - INFO - HTTP Request: POST https://api.openai.com/v1/chat/completions \"HTTP/1.1 200 OK\"\n",
      "2024-11-16 22:23:50,595 - INFO - Retrieving bank statement for account ID: ACC123, period: January\n",
      "2024-11-16 22:23:50,596 - INFO - Account ID ACC123 is valid.\n",
      "2024-11-16 22:23:53,913 - INFO - HTTP Request: POST https://api.openai.com/v1/chat/completions \"HTTP/1.1 200 OK\"\n"
     ]
    },
    {
     "name": "stdout",
     "output_type": "stream",
     "text": [
      "I have retrieved your bank statement for January:\n",
      "\n",
      "- Transaction 1: -$500.00\n",
      "- Transaction 2: +$1500.00\n",
      "\n",
      "If you need further assistance, feel free to ask!"
     ]
    },
    {
     "name": "stderr",
     "output_type": "stream",
     "text": [
      "2024-11-16 22:23:54,289 - INFO - Swarm run completed.\n"
     ]
    },
    {
     "name": "stdout",
     "output_type": "stream",
     "text": [
      "\n"
     ]
    },
    {
     "name": "stderr",
     "output_type": "stream",
     "text": [
      "2024-11-16 22:23:54,836 - INFO - HTTP Request: POST https://api.openai.com/v1/chat/completions \"HTTP/1.1 200 OK\"\n",
      "2024-11-16 22:23:54,875 - INFO - Transferring to Payments Agent.\n",
      "2024-11-16 22:23:55,660 - INFO - HTTP Request: POST https://api.openai.com/v1/chat/completions \"HTTP/1.1 200 OK\"\n",
      "2024-11-16 22:23:55,668 - INFO - Cancelling payment with ID: PAY001\n",
      "2024-11-16 22:23:55,669 - INFO - Payment ID PAY001 is valid.\n",
      "2024-11-16 22:23:56,271 - INFO - HTTP Request: POST https://api.openai.com/v1/chat/completions \"HTTP/1.1 200 OK\"\n"
     ]
    },
    {
     "name": "stdout",
     "output_type": "stream",
     "text": [
      "Your scheduled payment with ID PAY001 has been successfully canceled, and $300.00 has been refunded to your account (ACC123). If you need any further assistance, feel free to ask.\n"
     ]
    }
   ],
   "source": [
    "# main.py\n",
    "\n",
    "from agent_swarm import AgentSwarm\n",
    "from db import get_db, set_db\n",
    "\n",
    "# Initialize the AgentSwarm\n",
    "# Replace 'socket' with your actual socket or communication handler if needed\n",
    "socket = None  # Placeholder for real socket or communication handler\n",
    "swarm = AgentSwarm(socket)\n",
    "\n",
    "# Initialize messages list\n",
    "messages = [\n",
    "    {\"role\": \"user\", \"content\": \"I would like to check my account balance.\"}\n",
    "]\n",
    "\n",
    "# Function to process a message and handle streaming responses\n",
    "def process_message(swarm, messages, follow_up=None):\n",
    "    \"\"\"\n",
    "    Processes a message through the swarm and handles the response.\n",
    "    \n",
    "    Args:\n",
    "        swarm (AgentSwarm): The AgentSwarm instance.\n",
    "        messages (List[Dict[str, str]]): List of messages to process.\n",
    "        follow_up (Dict[str, str], optional): A follow-up message to send after the initial response.\n",
    "    \n",
    "    Returns:\n",
    "        List[Dict[str, str]]: Updated messages list.\n",
    "    \"\"\"\n",
    "    # Run the swarm and get the response\n",
    "    response = swarm.run(messages, stream=True)\n",
    "    bot_response = \"\"\n",
    "    # Print the response\n",
    "    for chunk in response:\n",
    "        if \"content\" in chunk and chunk['content']:\n",
    "            print(chunk['content'], end=\"\", flush=True)\n",
    "            bot_response += chunk['content']\n",
    "    print()  # For newline after the response\n",
    "    \n",
    "    # If there's a follow-up message, append it and process\n",
    "    if follow_up:\n",
    "        new_message = [\n",
    "            {\n",
    "                \"role\": \"assistant\",\n",
    "                \"content\": bot_response\n",
    "            },\n",
    "            {\n",
    "                \"role\": \"user\",\n",
    "                \"content\": follow_up\n",
    "            }\n",
    "        ]\n",
    "        messages += new_message\n",
    "        print(\"\\nUpdated Messages:\", messages)\n",
    "        \n",
    "        # Run the swarm with the updated messages\n",
    "        response = swarm.run(messages, stream=True)\n",
    "        for chunk in response:\n",
    "            if \"content\" in chunk and chunk['content']:\n",
    "                print(chunk['content'], end=\"\", flush=True)\n",
    "        print()  # For newline after the response\n",
    "    \n",
    "    return messages\n",
    "\n",
    "# Example usage\n",
    "if __name__ == \"__main__\":\n",
    "    # First interaction: Check account balance\n",
    "    follow_up_message = \"ACC123\"  # Providing account ID\n",
    "    messages = process_message(swarm, messages, follow_up=follow_up_message)\n",
    "    \n",
    "    # Second interaction: Transfer funds\n",
    "    transfer_message = \"Can you transfer $200 from ACC123 to ACC456?\"\n",
    "    messages = [\n",
    "        {\"role\": \"user\", \"content\": transfer_message}\n",
    "    ]\n",
    "    follow_up_transfer = None  # No follow-up for this example\n",
    "    messages = process_message(swarm, messages, follow_up=follow_up_transfer)\n",
    "    \n",
    "    # Third interaction: Retrieve bank statement\n",
    "    statement_message = \"I need my bank statement for January.\"\n",
    "    follow_up_statement = \"ACC123\"  # Providing account ID\n",
    "    messages = [\n",
    "        {\"role\": \"user\", \"content\": statement_message}\n",
    "    ]\n",
    "    messages = process_message(swarm, messages, follow_up=follow_up_statement)\n",
    "    \n",
    "    # Fourth interaction: Cancel payment\n",
    "    cancel_payment_message = \"I want to cancel my scheduled payment PAY001.\"\n",
    "    messages = [\n",
    "        {\"role\": \"user\", \"content\": cancel_payment_message}\n",
    "    ]\n",
    "    follow_up_cancel = None  # No follow-up for this example\n",
    "    messages = process_message(swarm, messages, follow_up=follow_up_cancel)\n"
   ]
  }
 ],
 "metadata": {
  "kernelspec": {
   "display_name": "talktuah",
   "language": "python",
   "name": "python3"
  },
  "language_info": {
   "codemirror_mode": {
    "name": "ipython",
    "version": 3
   },
   "file_extension": ".py",
   "mimetype": "text/x-python",
   "name": "python",
   "nbconvert_exporter": "python",
   "pygments_lexer": "ipython3",
   "version": "3.10.13"
  }
 },
 "nbformat": 4,
 "nbformat_minor": 2
}
