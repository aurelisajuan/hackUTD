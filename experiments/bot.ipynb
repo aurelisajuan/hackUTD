{
 "cells": [
  {
   "cell_type": "code",
   "execution_count": 1,
   "metadata": {},
   "outputs": [
    {
     "name": "stdout",
     "output_type": "stream",
     "text": [
      "User: I would like to check my account balance.\n",
      "Agent: "
     ]
    },
    {
     "name": "stderr",
     "output_type": "stream",
     "text": [
      "2024-11-17 09:02:12,457 - INFO - Current message history: [{'role': 'user', 'content': 'I would like to check my account balance.'}]\n",
      "2024-11-17 09:02:13,029 - INFO - HTTP Request: POST https://api.openai.com/v1/chat/completions \"HTTP/1.1 200 OK\"\n",
      "2024-11-17 09:02:13,132 - INFO - Transferring to Accounts Agent.\n",
      "2024-11-17 09:02:13,502 - INFO - HTTP Request: POST https://api.openai.com/v1/chat/completions \"HTTP/1.1 200 OK\"\n"
     ]
    },
    {
     "name": "stdout",
     "output_type": "stream",
     "text": [
      "Could you please provide your account ID so I can assist you in checking your account balance?\n",
      "\n",
      "\n",
      "User: ACC123\n",
      "Agent: "
     ]
    },
    {
     "name": "stderr",
     "output_type": "stream",
     "text": [
      "2024-11-17 09:02:13,684 - INFO - Current message history: [{'role': 'user', 'content': 'I would like to check my account balance.'}, {'role': 'assistant', 'content': 'Could you please provide your account ID so I can assist you in checking your account balance?'}, {'role': 'user', 'content': 'ACC123'}]\n",
      "2024-11-17 09:02:14,194 - INFO - HTTP Request: POST https://api.openai.com/v1/chat/completions \"HTTP/1.1 200 OK\"\n",
      "2024-11-17 09:02:14,226 - INFO - Handling account balance for account ID: ACC123\n",
      "2024-11-17 09:02:14,227 - INFO - Account ID ACC123 is valid.\n",
      "2024-11-17 09:02:14,580 - INFO - HTTP Request: POST https://api.openai.com/v1/chat/completions \"HTTP/1.1 200 OK\"\n"
     ]
    },
    {
     "name": "stdout",
     "output_type": "stream",
     "text": [
      "Your current account balance for account ID ACC123 is $2,500.00. If you need further assistance, please let me know!\n",
      "\n",
      "\n",
      "User: Can you transfer $200 from ACC123 to ACC456?\n",
      "Agent: "
     ]
    },
    {
     "name": "stderr",
     "output_type": "stream",
     "text": [
      "2024-11-17 09:02:14,996 - INFO - Current message history: [{'role': 'user', 'content': 'I would like to check my account balance.'}, {'role': 'assistant', 'content': 'Could you please provide your account ID so I can assist you in checking your account balance?'}, {'role': 'user', 'content': 'ACC123'}, {'role': 'assistant', 'content': 'Your current account balance for account ID ACC123 is $2,500.00. If you need further assistance, please let me know!'}, {'role': 'user', 'content': 'Can you transfer $200 from ACC123 to ACC456?'}]\n",
      "2024-11-17 09:02:15,363 - INFO - HTTP Request: POST https://api.openai.com/v1/chat/completions \"HTTP/1.1 200 OK\"\n"
     ]
    },
    {
     "name": "stdout",
     "output_type": "stream",
     "text": [
      "Could you please confirm if you'd like me to proceed with the transfer of $200 from account ACC123 to account ACC456?\n",
      "\n",
      "\n",
      "User: I need my bank statement for January.\n",
      "Agent: "
     ]
    },
    {
     "name": "stderr",
     "output_type": "stream",
     "text": [
      "2024-11-17 09:02:16,096 - INFO - Current message history: [{'role': 'user', 'content': 'I would like to check my account balance.'}, {'role': 'assistant', 'content': 'Could you please provide your account ID so I can assist you in checking your account balance?'}, {'role': 'user', 'content': 'ACC123'}, {'role': 'assistant', 'content': 'Your current account balance for account ID ACC123 is $2,500.00. If you need further assistance, please let me know!'}, {'role': 'user', 'content': 'Can you transfer $200 from ACC123 to ACC456?'}, {'role': 'assistant', 'content': \"Could you please confirm if you'd like me to proceed with the transfer of $200 from account ACC123 to account ACC456?\"}, {'role': 'user', 'content': 'I need my bank statement for January.'}]\n",
      "2024-11-17 09:02:16,588 - INFO - HTTP Request: POST https://api.openai.com/v1/chat/completions \"HTTP/1.1 200 OK\"\n",
      "2024-11-17 09:02:16,672 - INFO - Retrieving bank statement for account ID: ACC123, period: January\n",
      "2024-11-17 09:02:16,673 - INFO - Account ID ACC123 is valid.\n",
      "2024-11-17 09:02:17,124 - INFO - HTTP Request: POST https://api.openai.com/v1/chat/completions \"HTTP/1.1 200 OK\"\n"
     ]
    },
    {
     "name": "stdout",
     "output_type": "stream",
     "text": [
      "Here is your bank statement for January for account ID ACC123:\n",
      "\n",
      "- Transaction 1: -$500.00\n",
      "- Transaction 2: +$1500.00\n",
      "\n",
      "If you need further assistance, please let me know!\n",
      "\n",
      "\n",
      "User: I want to cancel my scheduled payment PAY001.\n",
      "Agent: "
     ]
    },
    {
     "name": "stderr",
     "output_type": "stream",
     "text": [
      "2024-11-17 09:02:17,691 - INFO - Current message history: [{'role': 'user', 'content': 'I would like to check my account balance.'}, {'role': 'assistant', 'content': 'Could you please provide your account ID so I can assist you in checking your account balance?'}, {'role': 'user', 'content': 'ACC123'}, {'role': 'assistant', 'content': 'Your current account balance for account ID ACC123 is $2,500.00. If you need further assistance, please let me know!'}, {'role': 'user', 'content': 'Can you transfer $200 from ACC123 to ACC456?'}, {'role': 'assistant', 'content': \"Could you please confirm if you'd like me to proceed with the transfer of $200 from account ACC123 to account ACC456?\"}, {'role': 'user', 'content': 'I need my bank statement for January.'}, {'role': 'assistant', 'content': 'Here is your bank statement for January for account ID ACC123:\\n\\n- Transaction 1: -$500.00\\n- Transaction 2: +$1500.00\\n\\nIf you need further assistance, please let me know!'}, {'role': 'user', 'content': 'I want to cancel my scheduled payment PAY001.'}]\n",
      "2024-11-17 09:02:18,187 - INFO - HTTP Request: POST https://api.openai.com/v1/chat/completions \"HTTP/1.1 200 OK\"\n",
      "2024-11-17 09:02:18,279 - INFO - Transferring to Payments Agent.\n",
      "2024-11-17 09:02:18,864 - INFO - HTTP Request: POST https://api.openai.com/v1/chat/completions \"HTTP/1.1 200 OK\"\n",
      "2024-11-17 09:02:19,021 - INFO - Cancelling payment with ID: PAY001\n",
      "2024-11-17 09:02:19,021 - INFO - Payment ID PAY001 is valid.\n",
      "2024-11-17 09:02:19,933 - INFO - HTTP Request: POST https://api.openai.com/v1/chat/completions \"HTTP/1.1 200 OK\"\n"
     ]
    },
    {
     "name": "stdout",
     "output_type": "stream",
     "text": [
      "The scheduled payment with ID PAY001 has been successfully canceled. If you have any other requests or need further assistance, please let me know!\n",
      "\n",
      "\n"
     ]
    }
   ],
   "source": [
    "# main.py\n",
    "\n",
    "from agent_swarm import AgentSwarm\n",
    "from db import get_db, set_db\n",
    "\n",
    "# Initialize the AgentSwarm\n",
    "# Replace 'socket' with your actual socket or communication handler if needed\n",
    "socket = None  # Placeholder for real socket or communication handler\n",
    "swarm = AgentSwarm(socket)\n",
    "\n",
    "# Function to process a new user message\n",
    "def process_new_message(swarm, user_message: str):\n",
    "    \"\"\"\n",
    "    Processes a new user message through the swarm and handles the response.\n",
    "    \n",
    "    Args:\n",
    "        swarm (AgentSwarm): The AgentSwarm instance.\n",
    "        user_message (str): The new user message to process.\n",
    "    \n",
    "    Yields:\n",
    "        str: The assistant's response chunks.\n",
    "    \"\"\"\n",
    "    message = {\"role\": \"user\", \"content\": user_message}\n",
    "    response = swarm.run([message], stream=True)\n",
    "    for chunk in response:\n",
    "        yield chunk  # Yield each chunk as it's received\n",
    "\n",
    "# Example usage\n",
    "if __name__ == \"__main__\":\n",
    "    # List of user interactions (including follow-ups)\n",
    "    user_interactions = [\n",
    "        {\"user_message\": \"I would like to check my account balance.\"},\n",
    "        {\"user_message\": \"ACC123\"},  # Follow-up providing account ID\n",
    "        {\"user_message\": \"Can you transfer $200 from ACC123 to ACC456?\"},\n",
    "        {\"user_message\": \"I need my bank statement for January.\"},\n",
    "        {\"user_message\": \"I want to cancel my scheduled payment PAY001.\"}\n",
    "    ]\n",
    "    \n",
    "    for interaction in user_interactions:\n",
    "        user_message = interaction[\"user_message\"]\n",
    "        print(f\"User: {user_message}\")\n",
    "        try:\n",
    "            print(\"Agent: \", end=\"\", flush=True)\n",
    "            # Process the user message and iterate over the response chunks\n",
    "            for chunk in process_new_message(swarm, user_message):\n",
    "                print(f\"{chunk}\", end=\"\", flush=True)\n",
    "            print(\"\\n\")  # For readability between interactions\n",
    "        except Exception as e:\n",
    "            print(f\"Agent: An error occurred: {str(e)}\\n\")\n"
   ]
  }
 ],
 "metadata": {
  "kernelspec": {
   "display_name": "talktuah",
   "language": "python",
   "name": "python3"
  },
  "language_info": {
   "codemirror_mode": {
    "name": "ipython",
    "version": 3
   },
   "file_extension": ".py",
   "mimetype": "text/x-python",
   "name": "python",
   "nbconvert_exporter": "python",
   "pygments_lexer": "ipython3",
   "version": "3.10.13"
  }
 },
 "nbformat": 4,
 "nbformat_minor": 2
}
