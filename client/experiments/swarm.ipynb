{
 "cells": [
  {
   "cell_type": "code",
   "execution_count": 4,
   "metadata": {},
   "outputs": [],
   "source": [
    "from swarm import Agent, Swarm\n",
    "import os\n",
    "\n",
    "navigator = Agent(\n",
    "    name=\"navigator\",\n",
    "    instructions=\"Determine which agent is best suited to handle the user's request, and transfer the conversation to that agent.\",\n",
    ")\n",
    "\n",
    "accounts = Agent(\n",
    "  name=\"accounts\",\n",
    "  instructions=\"You are a banking agent. You are responsible for handling all requests related to accounts, which includes fetching account details, account balances, and bank statements.\",\n",
    ")\n",
    "\n",
    "hawktuah = Agent(\n",
    "  name=\"hawktuah\",\n",
    "  instructions=\"You really like hawks, and will do anything to help them.\",\n",
    ")\n",
    "\n",
    "def transfer_back_to_navigator():\n",
    "  return navigator\n",
    "\n",
    "def transfer_to_accounts():\n",
    "  return accounts\n",
    "\n",
    "def transfer_to_hawktuah():\n",
    "  return hawktuah\n",
    "\n",
    "navigator.functions = [transfer_to_accounts, transfer_to_hawktuah]\n",
    "accounts.functions.append(transfer_back_to_navigator)\n",
    "hawktuah.functions.append(transfer_back_to_navigator)\n"
   ]
  },
  {
   "cell_type": "code",
   "execution_count": 18,
   "metadata": {},
   "outputs": [
    {
     "name": "stdout",
     "output_type": "stream",
     "text": [
      "Starting Swarm CLI 🐝\n",
      "\u001b[94mnavigator\u001b[0m: I didn't receive a specific request from you. Can you please let me know how I can assist you today?\n",
      "\u001b[94mnavigator\u001b[0m: That's great to hear! Are you looking for information or assistance related to bank services, accounts, or perhaps something specific about banking? Let me know how I can help!\n",
      "\u001b[94mnavigator\u001b[0m: \u001b[95mtransfer_to_accounts\u001b[0m()\n",
      "\u001b[94maccounts\u001b[0m: Sure, I can assist you with your account-related inquiries. What specific information or service do you need help with regarding your account?\n",
      "\u001b[94maccounts\u001b[0m: \u001b[95mtransfer_back_to_navigator\u001b[0m()\n",
      "\u001b[94mnavigator\u001b[0m: \u001b[95mtransfer_to_hawktuah\u001b[0m()\n",
      "\u001b[94mhawktuah\u001b[0m: Hawks are fascinating birds of prey loved by many. Whether you're interested in their behavior, habitats, or conservation efforts, there's a lot to learn and explore. What specific aspects of hawks would you like to discuss or know more about?\n",
      "\u001b[94mhawktuah\u001b[0m: \u001b[95mtransfer_back_to_navigator\u001b[0m()\n",
      "\u001b[94mnavigator\u001b[0m: You’re back with the main navigator. How can I assist you further today?\n",
      "\u001b[94mnavigator\u001b[0m: That's wonderful! Animals are truly amazing and bring so much joy to many people. Is there a specific type of animal you're interested in, or would you like to learn about a particular aspect of the animal kingdom? Let me know how I can help!\n",
      "\u001b[94mnavigator\u001b[0m: \u001b[95mtransfer_to_hawktuah\u001b[0m()\n",
      "\u001b[94mhawktuah\u001b[0m: Hawks are indeed incredible creatures! They are known for their keen eyesight, hunting skills, and majestic flight. If you have any specific questions about hawks or a particular species you're interested in, feel free to ask!\n",
      "\u001b[94mhawktuah\u001b[0m: It looks like your message didn't come through. If there's something more you'd like to discuss about hawks or any other topic, just let me know!\n",
      "\u001b[94mhawktuah\u001b[0m: It seems like your message didn't come through. If you have any questions or need assistance with anything, please feel free to let me know!\n",
      "\u001b[94mhawktuah\u001b[0m: If there is anything you'd like to discuss or any questions you have, feel free to share! I'm here to help.\n"
     ]
    },
    {
     "ename": "KeyboardInterrupt",
     "evalue": "Interrupted by user",
     "output_type": "error",
     "traceback": [
      "\u001b[0;31m---------------------------------------------------------------------------\u001b[0m",
      "\u001b[0;31mKeyboardInterrupt\u001b[0m                         Traceback (most recent call last)",
      "Cell \u001b[0;32mIn[18], line 21\u001b[0m\n\u001b[1;32m     14\u001b[0m message \u001b[38;5;241m=\u001b[39m {\u001b[38;5;124m\"\u001b[39m\u001b[38;5;124mrole\u001b[39m\u001b[38;5;124m\"\u001b[39m: \u001b[38;5;124m\"\u001b[39m\u001b[38;5;124muser\u001b[39m\u001b[38;5;124m\"\u001b[39m, \u001b[38;5;124m\"\u001b[39m\u001b[38;5;124mcontent\u001b[39m\u001b[38;5;124m\"\u001b[39m: query}\n\u001b[1;32m     15\u001b[0m resp \u001b[38;5;241m=\u001b[39m client\u001b[38;5;241m.\u001b[39mrun(\n\u001b[1;32m     16\u001b[0m   agent\u001b[38;5;241m=\u001b[39mnavigator,\n\u001b[1;32m     17\u001b[0m   messages\u001b[38;5;241m=\u001b[39m[message],\n\u001b[1;32m     18\u001b[0m   execute_tools\u001b[38;5;241m=\u001b[39m\u001b[38;5;28;01mFalse\u001b[39;00m,\n\u001b[1;32m     19\u001b[0m )\n\u001b[0;32m---> 21\u001b[0m \u001b[43mrun_demo_loop\u001b[49m\u001b[43m(\u001b[49m\u001b[43mnavigator\u001b[49m\u001b[43m)\u001b[49m\n",
      "File \u001b[0;32m~/programming/hackathons/hackUTD/experiments/venv/lib/python3.12/site-packages/swarm/repl/repl.py:70\u001b[0m, in \u001b[0;36mrun_demo_loop\u001b[0;34m(starting_agent, context_variables, stream, debug)\u001b[0m\n\u001b[1;32m     67\u001b[0m agent \u001b[38;5;241m=\u001b[39m starting_agent\n\u001b[1;32m     69\u001b[0m \u001b[38;5;28;01mwhile\u001b[39;00m \u001b[38;5;28;01mTrue\u001b[39;00m:\n\u001b[0;32m---> 70\u001b[0m     user_input \u001b[38;5;241m=\u001b[39m \u001b[38;5;28;43minput\u001b[39;49m\u001b[43m(\u001b[49m\u001b[38;5;124;43m\"\u001b[39;49m\u001b[38;5;130;43;01m\\033\u001b[39;49;00m\u001b[38;5;124;43m[90mUser\u001b[39;49m\u001b[38;5;130;43;01m\\033\u001b[39;49;00m\u001b[38;5;124;43m[0m: \u001b[39;49m\u001b[38;5;124;43m\"\u001b[39;49m\u001b[43m)\u001b[49m\n\u001b[1;32m     71\u001b[0m     messages\u001b[38;5;241m.\u001b[39mappend({\u001b[38;5;124m\"\u001b[39m\u001b[38;5;124mrole\u001b[39m\u001b[38;5;124m\"\u001b[39m: \u001b[38;5;124m\"\u001b[39m\u001b[38;5;124muser\u001b[39m\u001b[38;5;124m\"\u001b[39m, \u001b[38;5;124m\"\u001b[39m\u001b[38;5;124mcontent\u001b[39m\u001b[38;5;124m\"\u001b[39m: user_input})\n\u001b[1;32m     73\u001b[0m     response \u001b[38;5;241m=\u001b[39m client\u001b[38;5;241m.\u001b[39mrun(\n\u001b[1;32m     74\u001b[0m         agent\u001b[38;5;241m=\u001b[39magent,\n\u001b[1;32m     75\u001b[0m         messages\u001b[38;5;241m=\u001b[39mmessages,\n\u001b[0;32m   (...)\u001b[0m\n\u001b[1;32m     78\u001b[0m         debug\u001b[38;5;241m=\u001b[39mdebug,\n\u001b[1;32m     79\u001b[0m     )\n",
      "File \u001b[0;32m~/programming/hackathons/hackUTD/experiments/venv/lib/python3.12/site-packages/ipykernel/kernelbase.py:1282\u001b[0m, in \u001b[0;36mKernel.raw_input\u001b[0;34m(self, prompt)\u001b[0m\n\u001b[1;32m   1280\u001b[0m     msg \u001b[38;5;241m=\u001b[39m \u001b[38;5;124m\"\u001b[39m\u001b[38;5;124mraw_input was called, but this frontend does not support input requests.\u001b[39m\u001b[38;5;124m\"\u001b[39m\n\u001b[1;32m   1281\u001b[0m     \u001b[38;5;28;01mraise\u001b[39;00m StdinNotImplementedError(msg)\n\u001b[0;32m-> 1282\u001b[0m \u001b[38;5;28;01mreturn\u001b[39;00m \u001b[38;5;28;43mself\u001b[39;49m\u001b[38;5;241;43m.\u001b[39;49m\u001b[43m_input_request\u001b[49m\u001b[43m(\u001b[49m\n\u001b[1;32m   1283\u001b[0m \u001b[43m    \u001b[49m\u001b[38;5;28;43mstr\u001b[39;49m\u001b[43m(\u001b[49m\u001b[43mprompt\u001b[49m\u001b[43m)\u001b[49m\u001b[43m,\u001b[49m\n\u001b[1;32m   1284\u001b[0m \u001b[43m    \u001b[49m\u001b[38;5;28;43mself\u001b[39;49m\u001b[38;5;241;43m.\u001b[39;49m\u001b[43m_parent_ident\u001b[49m\u001b[43m[\u001b[49m\u001b[38;5;124;43m\"\u001b[39;49m\u001b[38;5;124;43mshell\u001b[39;49m\u001b[38;5;124;43m\"\u001b[39;49m\u001b[43m]\u001b[49m\u001b[43m,\u001b[49m\n\u001b[1;32m   1285\u001b[0m \u001b[43m    \u001b[49m\u001b[38;5;28;43mself\u001b[39;49m\u001b[38;5;241;43m.\u001b[39;49m\u001b[43mget_parent\u001b[49m\u001b[43m(\u001b[49m\u001b[38;5;124;43m\"\u001b[39;49m\u001b[38;5;124;43mshell\u001b[39;49m\u001b[38;5;124;43m\"\u001b[39;49m\u001b[43m)\u001b[49m\u001b[43m,\u001b[49m\n\u001b[1;32m   1286\u001b[0m \u001b[43m    \u001b[49m\u001b[43mpassword\u001b[49m\u001b[38;5;241;43m=\u001b[39;49m\u001b[38;5;28;43;01mFalse\u001b[39;49;00m\u001b[43m,\u001b[49m\n\u001b[1;32m   1287\u001b[0m \u001b[43m\u001b[49m\u001b[43m)\u001b[49m\n",
      "File \u001b[0;32m~/programming/hackathons/hackUTD/experiments/venv/lib/python3.12/site-packages/ipykernel/kernelbase.py:1325\u001b[0m, in \u001b[0;36mKernel._input_request\u001b[0;34m(self, prompt, ident, parent, password)\u001b[0m\n\u001b[1;32m   1322\u001b[0m \u001b[38;5;28;01mexcept\u001b[39;00m \u001b[38;5;167;01mKeyboardInterrupt\u001b[39;00m:\n\u001b[1;32m   1323\u001b[0m     \u001b[38;5;66;03m# re-raise KeyboardInterrupt, to truncate traceback\u001b[39;00m\n\u001b[1;32m   1324\u001b[0m     msg \u001b[38;5;241m=\u001b[39m \u001b[38;5;124m\"\u001b[39m\u001b[38;5;124mInterrupted by user\u001b[39m\u001b[38;5;124m\"\u001b[39m\n\u001b[0;32m-> 1325\u001b[0m     \u001b[38;5;28;01mraise\u001b[39;00m \u001b[38;5;167;01mKeyboardInterrupt\u001b[39;00m(msg) \u001b[38;5;28;01mfrom\u001b[39;00m \u001b[38;5;28;01mNone\u001b[39;00m\n\u001b[1;32m   1326\u001b[0m \u001b[38;5;28;01mexcept\u001b[39;00m \u001b[38;5;167;01mException\u001b[39;00m:\n\u001b[1;32m   1327\u001b[0m     \u001b[38;5;28mself\u001b[39m\u001b[38;5;241m.\u001b[39mlog\u001b[38;5;241m.\u001b[39mwarning(\u001b[38;5;124m\"\u001b[39m\u001b[38;5;124mInvalid Message:\u001b[39m\u001b[38;5;124m\"\u001b[39m, exc_info\u001b[38;5;241m=\u001b[39m\u001b[38;5;28;01mTrue\u001b[39;00m)\n",
      "\u001b[0;31mKeyboardInterrupt\u001b[0m: Interrupted by user"
     ]
    }
   ],
   "source": [
    "from dotenv import load_dotenv\n",
    "from swarm.repl import run_demo_loop\n",
    "\n",
    "# Load environment variables from .env file\n",
    "load_dotenv()\n",
    "\n",
    "client = Swarm()\n",
    "api_key = os.getenv(\"OPENAI_API_KEY\")\n",
    "\n",
    "# query = \"I like animals\"\n",
    "# message = {\"role\": \"user\", \"content\": query}\n",
    "# resp = client.run(\n",
    "#   agent=navigator,\n",
    "#   messages=[message],\n",
    "#   execute_tools=False,\n",
    "# )\n",
    "\n",
    "run_demo_loop(navigator)\n",
    "\n"
   ]
  }
 ],
 "metadata": {
  "kernelspec": {
   "display_name": "venv",
   "language": "python",
   "name": "python3"
  },
  "language_info": {
   "codemirror_mode": {
    "name": "ipython",
    "version": 3
   },
   "file_extension": ".py",
   "mimetype": "text/x-python",
   "name": "python",
   "nbconvert_exporter": "python",
   "pygments_lexer": "ipython3",
   "version": "3.12.5"
  }
 },
 "nbformat": 4,
 "nbformat_minor": 2
}
